{
 "cells": [
  {
   "cell_type": "code",
   "execution_count": 1,
   "metadata": {},
   "outputs": [],
   "source": [
    "#!pip install SpeechRecognition"
   ]
  },
  {
   "cell_type": "code",
   "execution_count": 2,
   "metadata": {},
   "outputs": [],
   "source": [
    "#!pip install pydub"
   ]
  },
  {
   "cell_type": "code",
   "execution_count": 3,
   "metadata": {},
   "outputs": [
    {
     "name": "stderr",
     "output_type": "stream",
     "text": [
      "C:\\Users\\MARIYA ALIAS\\python\\lib\\site-packages\\pydub\\utils.py:170: RuntimeWarning: Couldn't find ffmpeg or avconv - defaulting to ffmpeg, but may not work\n",
      "  warn(\"Couldn't find ffmpeg or avconv - defaulting to ffmpeg, but may not work\", RuntimeWarning)\n"
     ]
    }
   ],
   "source": [
    "# importing libraries \n",
    "import speech_recognition as sr \n",
    "import os \n",
    "from pydub import AudioSegment\n",
    "from pydub.silence import split_on_silence\n",
    "\n",
    "# create a speech recognition object\n",
    "r = sr.Recognizer()\n",
    "\n",
    "# a function that splits the audio file into chunks\n",
    "# and applies speech recognition\n",
    "def get_large_audio_transcription(path):\n",
    "    \"\"\"\n",
    "    Splitting the large audio file into chunks\n",
    "    and apply speech recognition on each of these chunks\n",
    "    \"\"\"\n",
    "    # open the audio file using pydub\n",
    "    sound = AudioSegment.from_wav(path)  \n",
    "    # split audio sound where silence is 700 miliseconds or more and get chunks\n",
    "    chunks = split_on_silence(sound,\n",
    "        # experiment with this value for your target audio file\n",
    "        min_silence_len = 500,\n",
    "        # adjust this per requirement\n",
    "        silence_thresh = sound.dBFS-14,\n",
    "        # keep the silence for 1 second, adjustable as well\n",
    "        keep_silence=500,\n",
    "    )\n",
    "    folder_name = \"audio-chunks\"\n",
    "    # create a directory to store the audio chunks\n",
    "    if not os.path.isdir(folder_name):\n",
    "        os.mkdir(folder_name)\n",
    "    whole_text = \"\"\n",
    "    # process each chunk \n",
    "    for i, audio_chunk in enumerate(chunks, start=1):\n",
    "        # export audio chunk and save it in\n",
    "        # the `folder_name` directory.\n",
    "        chunk_filename = os.path.join(folder_name, f\"chunk{i}.wav\")\n",
    "        audio_chunk.export(chunk_filename, format=\"wav\")\n",
    "        # recognize the chunk\n",
    "        with sr.AudioFile(chunk_filename) as source:\n",
    "            audio_listened = r.record(source)\n",
    "            # try converting it to text\n",
    "            try:\n",
    "                text = r.recognize_google(audio_listened)\n",
    "            except sr.UnknownValueError as e:\n",
    "                print(\"Error:\", str(e))\n",
    "            else:\n",
    "                text = f\"{text.capitalize()}. \"\n",
    "                print(text)\n",
    "                whole_text += text\n",
    "    # return the text for all chunks detected\n",
    "    return whole_text"
   ]
  },
  {
   "cell_type": "code",
   "execution_count": 4,
   "metadata": {},
   "outputs": [],
   "source": [
    "#path1 = \"C://Users/ARATHY/Desktop/Study materials/Term 3/AML 3406 AI and ML Capstone Project/capstone_test_audio.wav\"\n",
    "\n",
    "path1 = \"C://Users/Mariya Alias/Downloads/01.wav\""
   ]
  },
  {
   "cell_type": "code",
   "execution_count": 5,
   "metadata": {
    "scrolled": true
   },
   "outputs": [
    {
     "name": "stdout",
     "output_type": "stream",
     "text": [
      "Day 8. \n",
      "1. \n",
      "Describing a person. \n",
      "Qcard. \n",
      "Describe a famous person you would like to meet. \n",
      "You should say who it is. \n",
      "What they are famous for. \n",
      "What you would do if you meet them. \n",
      "And explain why you would like to meet them. \n",
      "Sample answer. \n",
      "Well the person i'd like to meet most is johnny mo. \n",
      "Who is a very famous film director in china. \n",
      "I've always admired him. \n",
      "He's a man of average height in his photos i think. \n",
      "So far he has directed many good films. \n",
      "He's well-known in china for his versatile talents. \n",
      "Festival he's a famous director. \n",
      "Most of his films have won the international prizes. \n",
      "And the actresses who have appeared in his films with consequently become popular as well. \n",
      "I liked his film the road home. \n",
      "Which describes how a young teacher on the go. \n",
      "Fell in love. \n",
      "And how they works and then joy that life in a small village. \n",
      "It's really touching with very good photography. \n",
      "And nice music. \n",
      "In spite of the simple plot. \n",
      "Apart from his directing. \n",
      "He has appeared in many films as the main character. \n",
      "Which always give people a very deep impression. \n",
      "I clearly remember one film in which he played the role of a terracotta warrior who came back to life and gold involved in a love affair with a woman. \n",
      "In recent years instead of depicting the uncivilized and backwood life in the country areas. \n",
      "He has made great efforts to publicize chinese culture. \n",
      "One of his famous works is a short documentary assisting china to bid for the 2008 olympic games. \n",
      "It's quite spectacular. \n",
      "He is the kind of person i would really like to meet. \n",
      "As he's a very good example of success through unfailing effort perseverance and struggle. \n",
      "If i met him i'd like to ask him about how he has succeeded against the logs. \n",
      "I'd also like to get some advice as to how to achieve self-fulfillment as he is done. \n"
     ]
    }
   ],
   "source": [
    "x = get_large_audio_transcription(path1)"
   ]
  },
  {
   "cell_type": "code",
   "execution_count": 6,
   "metadata": {},
   "outputs": [
    {
     "name": "stdout",
     "output_type": "stream",
     "text": [
      "Day 8. 1. Describing a person. Qcard. Describe a famous person you would like to meet. You should say who it is. What they are famous for. What you would do if you meet them. And explain why you would like to meet them. Sample answer. Well the person i'd like to meet most is johnny mo. Who is a very famous film director in china. I've always admired him. He's a man of average height in his photos i think. So far he has directed many good films. He's well-known in china for his versatile talents. Festival he's a famous director. Most of his films have won the international prizes. And the actresses who have appeared in his films with consequently become popular as well. I liked his film the road home. Which describes how a young teacher on the go. Fell in love. And how they works and then joy that life in a small village. It's really touching with very good photography. And nice music. In spite of the simple plot. Apart from his directing. He has appeared in many films as the main character. Which always give people a very deep impression. I clearly remember one film in which he played the role of a terracotta warrior who came back to life and gold involved in a love affair with a woman. In recent years instead of depicting the uncivilized and backwood life in the country areas. He has made great efforts to publicize chinese culture. One of his famous works is a short documentary assisting china to bid for the 2008 olympic games. It's quite spectacular. He is the kind of person i would really like to meet. As he's a very good example of success through unfailing effort perseverance and struggle. If i met him i'd like to ask him about how he has succeeded against the logs. I'd also like to get some advice as to how to achieve self-fulfillment as he is done. \n",
      "<class 'str'>\n"
     ]
    }
   ],
   "source": [
    "summary1 = str(x)\n",
    "print(summary1)\n",
    "print(type(summary1))\n",
    "#summarystr = str(summary1)"
   ]
  },
  {
   "cell_type": "code",
   "execution_count": 7,
   "metadata": {},
   "outputs": [],
   "source": [
    "#!pip3 install transformers torch sentencepiece"
   ]
  },
  {
   "cell_type": "code",
   "execution_count": 8,
   "metadata": {},
   "outputs": [
    {
     "name": "stderr",
     "output_type": "stream",
     "text": [
      "No model was supplied, defaulted to t5-small (https://huggingface.co/t5-small)\n",
      "All model checkpoint layers were used when initializing TFT5ForConditionalGeneration.\n",
      "\n",
      "All the layers of TFT5ForConditionalGeneration were initialized from the model checkpoint at t5-small.\n",
      "If your task is similar to the task the model of the checkpoint was trained on, you can already use TFT5ForConditionalGeneration for predictions without further training.\n"
     ]
    },
    {
     "name": "stdout",
     "output_type": "stream",
     "text": [
      "Summary: johnny mo is well-known in china for his versatile talents . he has directed many good films . his film the road home is touching with very good photography .\n"
     ]
    }
   ],
   "source": [
    "from transformers import pipeline\n",
    "\n",
    "# using pipeline API for summarization task\n",
    "summarization = pipeline(\"summarization\")\n",
    "original_text = summary1\n",
    "summary_text = summarization(original_text)[0]['summary_text']\n",
    "print(\"Summary:\", summary_text)"
   ]
  }
 ],
 "metadata": {
  "kernelspec": {
   "display_name": "Python 3",
   "language": "python",
   "name": "python3"
  },
  "language_info": {
   "codemirror_mode": {
    "name": "ipython",
    "version": 3
   },
   "file_extension": ".py",
   "mimetype": "text/x-python",
   "name": "python",
   "nbconvert_exporter": "python",
   "pygments_lexer": "ipython3",
   "version": "3.8.3"
  }
 },
 "nbformat": 4,
 "nbformat_minor": 4
}
